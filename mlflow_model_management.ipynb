{
 "cells": [
  {
   "cell_type": "markdown",
   "id": "2ac83396-559d-4e05-b57a-f70b2d09b667",
   "metadata": {},
   "source": [
    "## MLflow Model Management"
   ]
  },
  {
   "cell_type": "code",
   "execution_count": 14,
   "id": "1068c976-4154-4280-848f-b5e33f0c0ee5",
   "metadata": {},
   "outputs": [],
   "source": [
    "import numpy as np\n",
    "from sklearn.datasets import make_classification\n",
    "from sklearn.model_selection import train_test_split\n",
    "from sklearn.linear_model import LogisticRegression\n",
    "from sklearn.ensemble import RandomForestClassifier\n",
    "from xgboost import XGBClassifier\n",
    "from sklearn.metrics import classification_report\n",
    "import warnings\n",
    "warnings.filterwarnings('ignore')"
   ]
  },
  {
   "cell_type": "code",
   "execution_count": 15,
   "id": "4ffbf9bd-5ef6-4b80-a877-2408b70b1a51",
   "metadata": {},
   "outputs": [
    {
     "data": {
      "text/plain": [
       "(array([0, 1]), array([900, 100]))"
      ]
     },
     "execution_count": 15,
     "metadata": {},
     "output_type": "execute_result"
    }
   ],
   "source": [
    "# create imbalanced binary classification dataset\n",
    "X, y = make_classification(n_samples=1000, n_features=10, n_informative=2, n_redundant=8, \n",
    "                           weights=[0.9, 0.1], flip_y=0, random_state=142)\n",
    "\n",
    "np.unique(y, return_counts=True)"
   ]
  },
  {
   "cell_type": "code",
   "execution_count": 16,
   "id": "67a29f5b-0392-4c07-a509-dba3c96d91db",
   "metadata": {},
   "outputs": [],
   "source": [
    "# train test split\n",
    "X_train, X_test, y_train, y_test = train_test_split(X, y, test_size=0.3, stratify=y, random_state=1422)"
   ]
  },
  {
   "cell_type": "markdown",
   "id": "c43b2d40-0b38-447c-bfeb-d0c0a846c0b0",
   "metadata": {},
   "source": [
    "### Logistic Regression Classifier"
   ]
  },
  {
   "cell_type": "code",
   "execution_count": 17,
   "id": "d8d6cd8d-caba-4099-8356-f3c01de4b869",
   "metadata": {},
   "outputs": [
    {
     "name": "stdout",
     "output_type": "stream",
     "text": [
      "              precision    recall  f1-score   support\n",
      "\n",
      "           0       0.99      1.00      1.00       270\n",
      "           1       1.00      0.93      0.97        30\n",
      "\n",
      "    accuracy                           0.99       300\n",
      "   macro avg       1.00      0.97      0.98       300\n",
      "weighted avg       0.99      0.99      0.99       300\n",
      "\n"
     ]
    }
   ],
   "source": [
    "log_reg = LogisticRegression(C=1, solver=\"liblinear\")\n",
    "log_reg.fit(X_train, y_train)\n",
    "y_pred_log_reg = log_reg.predict(X_test)\n",
    "print(classification_report(y_test, y_pred_log_reg))"
   ]
  },
  {
   "cell_type": "markdown",
   "id": "6fee02b0-2e3b-4e63-9d8b-c02d02aa3bb7",
   "metadata": {},
   "source": [
    "### Random Forest Classifier"
   ]
  },
  {
   "cell_type": "code",
   "execution_count": 18,
   "id": "32748a64-f4bb-447b-987f-51c04b74c1f1",
   "metadata": {},
   "outputs": [
    {
     "name": "stdout",
     "output_type": "stream",
     "text": [
      "              precision    recall  f1-score   support\n",
      "\n",
      "           0       0.99      1.00      1.00       270\n",
      "           1       1.00      0.93      0.97        30\n",
      "\n",
      "    accuracy                           0.99       300\n",
      "   macro avg       1.00      0.97      0.98       300\n",
      "weighted avg       0.99      0.99      0.99       300\n",
      "\n"
     ]
    }
   ],
   "source": [
    "rf_clf = RandomForestClassifier(n_estimators=30, max_depth=3)\n",
    "rf_clf.fit(X_train, y_train)\n",
    "y_pred_rf = rf_clf.predict(X_test)\n",
    "print(classification_report(y_test, y_pred_rf))"
   ]
  },
  {
   "cell_type": "markdown",
   "id": "7e0d6e69-eccd-456b-9269-f04d69b87f06",
   "metadata": {},
   "source": [
    "### XGBoost"
   ]
  },
  {
   "cell_type": "code",
   "execution_count": 19,
   "id": "bd3fe678-b309-46d0-9b53-33f54ffc2fe2",
   "metadata": {},
   "outputs": [
    {
     "name": "stdout",
     "output_type": "stream",
     "text": [
      "              precision    recall  f1-score   support\n",
      "\n",
      "           0       1.00      1.00      1.00       270\n",
      "           1       1.00      0.97      0.98        30\n",
      "\n",
      "    accuracy                           1.00       300\n",
      "   macro avg       1.00      0.98      0.99       300\n",
      "weighted avg       1.00      1.00      1.00       300\n",
      "\n"
     ]
    }
   ],
   "source": [
    "xgb_clf = XGBClassifier(use_label_encoder=False, eval_metric=\"logloss\")\n",
    "xgb_clf.fit(X_train, y_train)\n",
    "y_pred_xgb = xgb_clf.predict(X_test)\n",
    "print(classification_report(y_test, y_pred_xgb))"
   ]
  },
  {
   "cell_type": "markdown",
   "id": "9a7f2a9f-65ff-48c7-a79d-c8655b8e3eaa",
   "metadata": {},
   "source": [
    "### Handle class imbalance using SMOTETomek and train XGBoost"
   ]
  },
  {
   "cell_type": "code",
   "execution_count": 20,
   "id": "c552aa0e-625e-4c97-8bbc-0c347a1c02da",
   "metadata": {},
   "outputs": [
    {
     "data": {
      "text/plain": [
       "(array([0, 1]), array([627, 627]))"
      ]
     },
     "execution_count": 20,
     "metadata": {},
     "output_type": "execute_result"
    }
   ],
   "source": [
    "from imblearn.combine import SMOTETomek\n",
    "\n",
    "smt = SMOTETomek(random_state=42)\n",
    "X_train_res, y_train_res = smt.fit_resample(X_train, y_train)\n",
    "\n",
    "np.unique(y_train_res, return_counts=True)"
   ]
  },
  {
   "cell_type": "code",
   "execution_count": 21,
   "id": "0b43f93a-3161-469d-bd1b-694347df9666",
   "metadata": {},
   "outputs": [
    {
     "name": "stdout",
     "output_type": "stream",
     "text": [
      "              precision    recall  f1-score   support\n",
      "\n",
      "           0       1.00      0.98      0.99       270\n",
      "           1       0.85      0.97      0.91        30\n",
      "\n",
      "    accuracy                           0.98       300\n",
      "   macro avg       0.92      0.97      0.95       300\n",
      "weighted avg       0.98      0.98      0.98       300\n",
      "\n"
     ]
    }
   ],
   "source": [
    "xgb_clf = XGBClassifier(use_label_encoder=False, eval_metric=\"logloss\")\n",
    "xgb_clf.fit(X_train_res, y_train_res)\n",
    "y_pred_xgb = xgb_clf.predict(X_test)\n",
    "print(classification_report(y_test, y_pred_xgb))"
   ]
  },
  {
   "cell_type": "code",
   "execution_count": 22,
   "id": "c68f1a42-85af-442a-bdb5-c6f9ddec90f5",
   "metadata": {},
   "outputs": [
    {
     "data": {
      "text/plain": [
       "{'0': {'precision': 0.9962406015037594,\n",
       "  'recall': 0.9814814814814815,\n",
       "  'f1-score': 0.9888059701492538,\n",
       "  'support': 270.0},\n",
       " '1': {'precision': 0.8529411764705882,\n",
       "  'recall': 0.9666666666666667,\n",
       "  'f1-score': 0.90625,\n",
       "  'support': 30.0},\n",
       " 'accuracy': 0.98,\n",
       " 'macro avg': {'precision': 0.9245908889871738,\n",
       "  'recall': 0.9740740740740741,\n",
       "  'f1-score': 0.9475279850746269,\n",
       "  'support': 300.0},\n",
       " 'weighted avg': {'precision': 0.9819106590004422,\n",
       "  'recall': 0.98,\n",
       "  'f1-score': 0.9805503731343284,\n",
       "  'support': 300.0}}"
      ]
     },
     "execution_count": 22,
     "metadata": {},
     "output_type": "execute_result"
    }
   ],
   "source": [
    "classification_report(y_test, y_pred_xgb, output_dict=True)"
   ]
  },
  {
   "cell_type": "markdown",
   "id": "54854bb9-b835-403c-97f6-6678600e5730",
   "metadata": {},
   "source": [
    "### Track Experiments using MLFlow"
   ]
  },
  {
   "cell_type": "code",
   "execution_count": 23,
   "id": "aa8bdcbe-1e19-480e-a2fc-c9120f6616f1",
   "metadata": {},
   "outputs": [],
   "source": [
    "models = [\n",
    "    (\n",
    "        \"Logistic Regression\",\n",
    "        {\"C\": 1, \"solver\": 'liblinear'},\n",
    "        LogisticRegression(),\n",
    "        (X_train, y_train),\n",
    "        (X_test, y_test)\n",
    "    ),\n",
    "    (\n",
    "        \"Random Forest\",\n",
    "        {\"n_estimators\": 30, \"max_depth\": 3},\n",
    "        RandomForestClassifier(),\n",
    "        (X_train, y_train),\n",
    "        (X_test, y_test)\n",
    "    ),\n",
    "    (\n",
    "        \"XGBClassifier\",\n",
    "        {\"use_label_encoder\": False, \"eval_metric\": 'logloss'},\n",
    "        XGBClassifier(),\n",
    "        (X_train, y_train),\n",
    "        (X_test, y_test)\n",
    "    ),\n",
    "    (\n",
    "        \"XGBClassifier With SMOTE\",\n",
    "        {\"use_label_encoder\": False, \"eval_metric\": 'logloss'},\n",
    "        XGBClassifier(),\n",
    "        (X_train_res, y_train_res),\n",
    "        (X_test, y_test)\n",
    "    ),\n",
    "]"
   ]
  },
  {
   "cell_type": "code",
   "execution_count": 24,
   "id": "c5a408ea-776b-4d31-be93-39faa4f746e9",
   "metadata": {},
   "outputs": [],
   "source": [
    "reports = []\n",
    "\n",
    "for model_name, params, model, train_set, test_set in models:\n",
    "    X_train = train_set[0]\n",
    "    y_train = train_set[1]\n",
    "    X_test = test_set[0]\n",
    "    y_test = test_set[1]\n",
    "\n",
    "    model.set_params(**params)\n",
    "    model.fit(X_train, y_train)\n",
    "    y_pred = model.predict(X_test)\n",
    "    report = classification_report(y_test, y_pred, output_dict=True)\n",
    "    reports.append(report)"
   ]
  },
  {
   "cell_type": "code",
   "execution_count": 25,
   "id": "d75b9e62-d426-408c-8784-bcc3b2d638b9",
   "metadata": {},
   "outputs": [],
   "source": [
    "import mlflow\n",
    "import mlflow.sklearn\n",
    "import mlflow.xgboost"
   ]
  },
  {
   "cell_type": "code",
   "execution_count": 28,
   "id": "2f83ee90-e88e-4846-9a34-6ce72f4edeb3",
   "metadata": {},
   "outputs": [
    {
     "name": "stderr",
     "output_type": "stream",
     "text": [
      "2025/03/06 17:16:08 WARNING mlflow.models.model: Model logged without a signature and input example. Please set `input_example` parameter when logging the model to auto infer the model signature.\n"
     ]
    },
    {
     "name": "stdout",
     "output_type": "stream",
     "text": [
      "🏃 View run Logistic Regression at: http://localhost:5000/#/experiments/928107604711575783/runs/63605be38d524540ad1e97a406801fe3\n",
      "🧪 View experiment at: http://localhost:5000/#/experiments/928107604711575783\n"
     ]
    },
    {
     "name": "stderr",
     "output_type": "stream",
     "text": [
      "2025/03/06 17:16:16 WARNING mlflow.models.model: Model logged without a signature and input example. Please set `input_example` parameter when logging the model to auto infer the model signature.\n"
     ]
    },
    {
     "name": "stdout",
     "output_type": "stream",
     "text": [
      "🏃 View run Random Forest at: http://localhost:5000/#/experiments/928107604711575783/runs/eb370fff18c14a10afbc0466149f6d47\n",
      "🧪 View experiment at: http://localhost:5000/#/experiments/928107604711575783\n"
     ]
    },
    {
     "name": "stderr",
     "output_type": "stream",
     "text": [
      "2025/03/06 17:16:25 WARNING mlflow.models.model: Model logged without a signature and input example. Please set `input_example` parameter when logging the model to auto infer the model signature.\n"
     ]
    },
    {
     "name": "stdout",
     "output_type": "stream",
     "text": [
      "🏃 View run XGBClassifier at: http://localhost:5000/#/experiments/928107604711575783/runs/a17c7c92f7ac4f97b78584dcdb4bd8a4\n",
      "🧪 View experiment at: http://localhost:5000/#/experiments/928107604711575783\n"
     ]
    },
    {
     "name": "stderr",
     "output_type": "stream",
     "text": [
      "2025/03/06 17:16:33 WARNING mlflow.models.model: Model logged without a signature and input example. Please set `input_example` parameter when logging the model to auto infer the model signature.\n"
     ]
    },
    {
     "name": "stdout",
     "output_type": "stream",
     "text": [
      "🏃 View run XGBClassifier With SMOTE at: http://localhost:5000/#/experiments/928107604711575783/runs/eb2471c9750549fdbe3456ac772917ad\n",
      "🧪 View experiment at: http://localhost:5000/#/experiments/928107604711575783\n"
     ]
    }
   ],
   "source": [
    "# initialize MLflow\n",
    "mlflow.set_experiment(\"MLflow Model Management\")\n",
    "mlflow.set_tracking_uri(\"http://localhost:5000\")\n",
    "\n",
    "for i, element in enumerate(models):\n",
    "    model_name = element[0]\n",
    "    params = element[1]\n",
    "    model = element[2]\n",
    "    report = reports[i]\n",
    "\n",
    "    with mlflow.start_run(run_name=model_name):\n",
    "        mlflow.log_params(params)\n",
    "        \n",
    "        mlflow.log_metric(\"accuracy\", report['accuracy'])\n",
    "        mlflow.log_metric(\"recall_class_1\", report[\"1\"][\"recall\"])\n",
    "        mlflow.log_metric(\"recall_class_0\", report[\"0\"][\"recall\"])\n",
    "        mlflow.log_metric(\"f1_score_macro\", report[\"macro avg\"][\"f1-score\"])\n",
    "\n",
    "        ## Or\n",
    "        # mlflow.log_metrics({\n",
    "        #     'accuracy': report['accuracy'],\n",
    "        #     'recall_class_1': report['1']['recall'],\n",
    "        #     'recall_class_0': report['0']['recall'],\n",
    "        #     'f1_score_macro': report['macro avg']['f1-score']\n",
    "        # })\n",
    "        \n",
    "        if \"XGB\" in model_name:\n",
    "            mlflow.xgboost.log_model(model, \"model\")\n",
    "        else:\n",
    "            mlflow.sklearn.log_model(model, \"model\")"
   ]
  },
  {
   "cell_type": "markdown",
   "id": "9984525b-7ecb-4246-8c95-b379577208b6",
   "metadata": {},
   "source": [
    "### Register the model"
   ]
  },
  {
   "cell_type": "code",
   "execution_count": 40,
   "id": "5c1fd26f-4729-4b97-9f93-7a44b9fccd3d",
   "metadata": {},
   "outputs": [
    {
     "name": "stdin",
     "output_type": "stream",
     "text": [
      "Enter Run ID: eb2471c9750549fdbe3456ac772917ad\n"
     ]
    },
    {
     "name": "stderr",
     "output_type": "stream",
     "text": [
      "Successfully registered model 'XGB-Smote'.\n",
      "2025/03/06 18:26:29 INFO mlflow.store.model_registry.abstract_store: Waiting up to 300 seconds for model version to finish creation. Model name: XGB-Smote, version 1\n",
      "Created version '1' of model 'XGB-Smote'.\n"
     ]
    }
   ],
   "source": [
    "model_name = \"XGB-Smote\"\n",
    "run_id = input(\"Enter Run ID:\")\n",
    "model_uri = f\"runs:/{run_id}/model\"\n",
    "\n",
    "result = mlflow.register_model(\n",
    "    model_uri, model_name\n",
    "    # \"runs:/d16076a3ec534311817565e6527539c0/sklearn-model\", \"sk-learn-random-forest-reg\"\n",
    ")"
   ]
  },
  {
   "cell_type": "markdown",
   "id": "0fb898f4-3a83-4ef1-9af2-dd5574ae060e",
   "metadata": {},
   "source": [
    "### Checking if the model is registered correctly in MLflow"
   ]
  },
  {
   "cell_type": "code",
   "execution_count": 41,
   "id": "04c474db-9a3e-4edb-80f0-ab0b386dc1bc",
   "metadata": {},
   "outputs": [
    {
     "name": "stdout",
     "output_type": "stream",
     "text": [
      "[<RegisteredModel: aliases={}, creation_timestamp=1741264889570, description='', last_updated_timestamp=1741264889633, latest_versions=[<ModelVersion: aliases=[], creation_timestamp=1741264889633, current_stage='None', description='', last_updated_timestamp=1741264889633, name='XGB-Smote', run_id='eb2471c9750549fdbe3456ac772917ad', run_link='', source='mlflow-artifacts:/928107604711575783/eb2471c9750549fdbe3456ac772917ad/artifacts/model', status='READY', status_message=None, tags={}, user_id='', version='1'>], name='XGB-Smote', tags={}>]\n"
     ]
    }
   ],
   "source": [
    "model_name = \"XGB-Smote\"\n",
    "models = mlflow.search_registered_models(filter_string=f\"name='{model_name}'\")\n",
    "print(models)"
   ]
  },
  {
   "cell_type": "markdown",
   "id": "efd4d05f-9b65-49d2-813d-5a0821887131",
   "metadata": {},
   "source": [
    "### Load the model"
   ]
  },
  {
   "cell_type": "code",
   "execution_count": 42,
   "id": "23fd142b-2593-4adc-8c58-ccc11511bef5",
   "metadata": {},
   "outputs": [
    {
     "name": "stderr",
     "output_type": "stream",
     "text": [
      "Downloading artifacts: 100%|█████████████████████████████████████████████████████████████| 5/5 [00:02<00:00,  1.94it/s]\n"
     ]
    },
    {
     "data": {
      "text/plain": [
       "array([0, 0, 1, 0])"
      ]
     },
     "execution_count": 42,
     "metadata": {},
     "output_type": "execute_result"
    }
   ],
   "source": [
    "model_name = \"XGB-Smote\"\n",
    "model_version = 1\n",
    "# model_uri = f\"models:/{reg_model_name}/1\"\n",
    "model_uri = f\"models:/{model_name}/{model_version}\"\n",
    "\n",
    "loaded_model = mlflow.xgboost.load_model(model_uri)\n",
    "y_pred = loaded_model.predict(X_test)\n",
    "y_pred[:4]"
   ]
  },
  {
   "cell_type": "markdown",
   "id": "019b47bd-8713-486a-b2b1-f5ce25ca0ff6",
   "metadata": {},
   "source": [
    "### Model to Production"
   ]
  },
  {
   "cell_type": "code",
   "execution_count": 43,
   "id": "6b25ddad-9cfb-4013-a968-2693c0bd4c6f",
   "metadata": {},
   "outputs": [
    {
     "name": "stderr",
     "output_type": "stream",
     "text": [
      "Successfully registered model 'anomaly-detection-production'.\n",
      "Copied version '1' of model 'XGB-Smote' to version '1' of model 'anomaly-detection-production'.\n"
     ]
    },
    {
     "data": {
      "text/plain": [
       "<ModelVersion: aliases=[], creation_timestamp=1741265302652, current_stage='None', description='', last_updated_timestamp=1741265302652, name='anomaly-detection-production', run_id='eb2471c9750549fdbe3456ac772917ad', run_link='', source='models:/XGB-Smote/1', status='READY', status_message=None, tags={}, user_id='', version='1'>"
      ]
     },
     "execution_count": 43,
     "metadata": {},
     "output_type": "execute_result"
    }
   ],
   "source": [
    "from mlflow import MlflowClient\n",
    "\n",
    "client = MlflowClient()\n",
    "client.copy_model_version(\n",
    "    src_model_uri=f\"models:/{model_name}/{model_version}\",\n",
    "    dst_name=\"anomaly-detection-production\",\n",
    ")"
   ]
  },
  {
   "cell_type": "code",
   "execution_count": 45,
   "id": "5b3250b3-412b-433a-bc3a-eaf7e4341742",
   "metadata": {},
   "outputs": [
    {
     "name": "stderr",
     "output_type": "stream",
     "text": [
      "Downloading artifacts: 100%|█████████████████████████████████████████████████████████████| 5/5 [00:02<00:00,  2.28it/s]\n"
     ]
    },
    {
     "data": {
      "text/plain": [
       "array([0, 0, 1, 0])"
      ]
     },
     "execution_count": 45,
     "metadata": {},
     "output_type": "execute_result"
    }
   ],
   "source": [
    "model_name = \"XGB-Smote\"\n",
    "model_version = 1\n",
    "# model_uri = f\"models:/{reg_model_name}/1\"\n",
    "model_uri = f\"models:/anomaly-detection-production/1\"\n",
    "\n",
    "loaded_model = mlflow.xgboost.load_model(model_uri)\n",
    "y_pred = loaded_model.predict(X_test)\n",
    "y_pred[:4]"
   ]
  },
  {
   "cell_type": "code",
   "execution_count": null,
   "id": "51109c99-4688-4e4d-8a9c-cd35be0a75d3",
   "metadata": {},
   "outputs": [],
   "source": []
  }
 ],
 "metadata": {
  "kernelspec": {
   "display_name": "MLOps (env)",
   "language": "python",
   "name": ".mlops_env"
  },
  "language_info": {
   "codemirror_mode": {
    "name": "ipython",
    "version": 3
   },
   "file_extension": ".py",
   "mimetype": "text/x-python",
   "name": "python",
   "nbconvert_exporter": "python",
   "pygments_lexer": "ipython3",
   "version": "3.10.0"
  }
 },
 "nbformat": 4,
 "nbformat_minor": 5
}
